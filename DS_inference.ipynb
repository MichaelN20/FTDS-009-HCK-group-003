{
 "cells": [
  {
   "cell_type": "markdown",
   "metadata": {},
   "source": [
    "# **Walmart's Inventory Management and Demand Forecasting**\n",
    "\n",
    "*Our objective is to create a precise sales prediction model for diverse Walmart stores, incorporating variables like date, store category, promotions, and environmental data. The model's predictions will be applied to fine-tune inventory levels, mitigating the risk of excess stock or shortages that could impact product availability. This optimization aims to improve store operational efficiency and enhance overall customer satisfaction.*\n",
    "\n",
    "*This notebook will particularly focus on the model's inference process.*"
   ]
  },
  {
   "cell_type": "markdown",
   "metadata": {},
   "source": [
    "## **I. Introduction**\n",
    "\n",
    "### **`Members:`**\n",
    "- Faris Arief Mawardi\n",
    "- Michael Nathaniel\n",
    "- Nadia Nabilla Shafira\n",
    "- Noufal Rifata Reyhan\n",
    "\n",
    "### **`Objective:`**\n",
    "\n",
    "Evaluate the sales forecasting model's performance for various Walmart stores using dummy data. Utilize factors such as date, store type, promotions, and environmental information to analyze how well the model predicts sales outcomes. The examination aims to assess the model's accuracy and effectiveness in optimizing inventory levels, thereby preventing stock excesses or shortages. This process is essential for ensuring seamless product availability, improving store operational efficiency, and enhancing overall customer satisfaction."
   ]
  },
  {
   "cell_type": "markdown",
   "metadata": {},
   "source": [
    "# **II. Import Libraries**"
   ]
  },
  {
   "cell_type": "code",
   "execution_count": 2,
   "metadata": {},
   "outputs": [],
   "source": [
    "import pandas as pd\n",
    "import numpy as np\n",
    "\n",
    "import pickle"
   ]
  },
  {
   "cell_type": "markdown",
   "metadata": {},
   "source": [
    "---\n",
    "# **III. Load Model**\n",
    "> *In this step, the pre-trained or previously saved sales forecasting model is retrieved and loaded into the current environment. Loading the model is a crucial phase in the workflow, as it allows the subsequent steps to utilize the learned patterns and information embedded in the model during its training phase. Once the model is successfully loaded, it becomes ready for deployment and can be employed to make predictions or inferences on new data, enabling the assessment of its accuracy and performance in forecasting sales based on the provided features such as store type, promotions, and environmental factors.*"
   ]
  },
  {
   "cell_type": "code",
   "execution_count": 3,
   "metadata": {},
   "outputs": [],
   "source": [
    "with open('best_rf.pkl', 'rb') as model:\n",
    "    rf_model = pickle.load(model)"
   ]
  },
  {
   "cell_type": "markdown",
   "metadata": {},
   "source": [
    "---\n",
    "# **IV. Data Dummy**\n",
    "> *In this step, dummy data is introduced into the system for the purpose of testing and validating the loaded sales forecasting model. Dummy data refers to simulated or placeholder information that mimics the structure and format of real-world data but may not necessarily represent authentic observations. The utilization of dummy data allows for a controlled environment to assess how well the model performs in making predictions and generating forecasts.*"
   ]
  },
  {
   "cell_type": "code",
   "execution_count": 14,
   "metadata": {},
   "outputs": [
    {
     "data": {
      "text/html": [
       "<div>\n",
       "<style scoped>\n",
       "    .dataframe tbody tr th:only-of-type {\n",
       "        vertical-align: middle;\n",
       "    }\n",
       "\n",
       "    .dataframe tbody tr th {\n",
       "        vertical-align: top;\n",
       "    }\n",
       "\n",
       "    .dataframe thead th {\n",
       "        text-align: right;\n",
       "    }\n",
       "</style>\n",
       "<table border=\"1\" class=\"dataframe\">\n",
       "  <thead>\n",
       "    <tr style=\"text-align: right;\">\n",
       "      <th></th>\n",
       "      <th>Store</th>\n",
       "      <th>Temperature</th>\n",
       "      <th>Fuel_Price</th>\n",
       "      <th>MarkDown1</th>\n",
       "      <th>MarkDown2</th>\n",
       "      <th>MarkDown3</th>\n",
       "      <th>MarkDown4</th>\n",
       "      <th>MarkDown5</th>\n",
       "      <th>CPI</th>\n",
       "      <th>Unemployment</th>\n",
       "      <th>IsHoliday</th>\n",
       "      <th>Type</th>\n",
       "      <th>Size</th>\n",
       "      <th>Dept</th>\n",
       "    </tr>\n",
       "  </thead>\n",
       "  <tbody>\n",
       "    <tr>\n",
       "      <th>0</th>\n",
       "      <td>12</td>\n",
       "      <td>61.20</td>\n",
       "      <td>3.411</td>\n",
       "      <td>7621</td>\n",
       "      <td>3752</td>\n",
       "      <td>4614</td>\n",
       "      <td>421</td>\n",
       "      <td>9921</td>\n",
       "      <td>217.1</td>\n",
       "      <td>6.8</td>\n",
       "      <td>True</td>\n",
       "      <td>A</td>\n",
       "      <td>231192</td>\n",
       "      <td>28</td>\n",
       "    </tr>\n",
       "    <tr>\n",
       "      <th>1</th>\n",
       "      <td>7</td>\n",
       "      <td>58.91</td>\n",
       "      <td>2.453</td>\n",
       "      <td>10224</td>\n",
       "      <td>2683</td>\n",
       "      <td>11942</td>\n",
       "      <td>769</td>\n",
       "      <td>3571</td>\n",
       "      <td>632.5</td>\n",
       "      <td>3.1</td>\n",
       "      <td>True</td>\n",
       "      <td>C</td>\n",
       "      <td>98421</td>\n",
       "      <td>91</td>\n",
       "    </tr>\n",
       "    <tr>\n",
       "      <th>2</th>\n",
       "      <td>23</td>\n",
       "      <td>47.74</td>\n",
       "      <td>3.286</td>\n",
       "      <td>9820</td>\n",
       "      <td>1291</td>\n",
       "      <td>1329</td>\n",
       "      <td>135</td>\n",
       "      <td>1231</td>\n",
       "      <td>382.7</td>\n",
       "      <td>8.7</td>\n",
       "      <td>False</td>\n",
       "      <td>B</td>\n",
       "      <td>119521</td>\n",
       "      <td>36</td>\n",
       "    </tr>\n",
       "  </tbody>\n",
       "</table>\n",
       "</div>"
      ],
      "text/plain": [
       "   Store  Temperature  Fuel_Price  MarkDown1  MarkDown2  MarkDown3  MarkDown4  \\\n",
       "0     12        61.20       3.411       7621       3752       4614        421   \n",
       "1      7        58.91       2.453      10224       2683      11942        769   \n",
       "2     23        47.74       3.286       9820       1291       1329        135   \n",
       "\n",
       "   MarkDown5    CPI  Unemployment IsHoliday Type    Size  Dept  \n",
       "0       9921  217.1           6.8      True    A  231192    28  \n",
       "1       3571  632.5           3.1      True    C   98421    91  \n",
       "2       1231  382.7           8.7     False    B  119521    36  "
      ]
     },
     "execution_count": 14,
     "metadata": {},
     "output_type": "execute_result"
    }
   ],
   "source": [
    "dataInf = {\n",
    "    'Store' : [12, 7, 23],\n",
    "    'Temperature' : [61.2, 58.91, 47.74],\n",
    "    'Fuel_Price' : [3.411, 2.453, 3.286],\n",
    "    'MarkDown1' : [7621, 10224, 9820],\n",
    "    'MarkDown2' : [3752, 2683, 1291],\n",
    "    'MarkDown3' : [4614, 11942, 1329],\n",
    "    'MarkDown4' : [421, 769, 135],\n",
    "    'MarkDown5' : [9921, 3571, 1231],\n",
    "    'CPI' : [217.1, 632.5, 382.7],\n",
    "    'Unemployment' : [6.8, 3.1, 8.7],\n",
    "    'IsHoliday' : ['True', 'True', 'False'],\n",
    "    'Type' : ['A', 'C', 'B'],\n",
    "    'Size' : [231192, 98421, 119521],\n",
    "    'Dept' : [28, 91, 36],\n",
    "}\n",
    "\n",
    "dataInf = pd.DataFrame(dataInf)\n",
    "dataInf"
   ]
  },
  {
   "cell_type": "code",
   "execution_count": 15,
   "metadata": {},
   "outputs": [],
   "source": [
    "dataInf = dataInf.drop(['Unemployment', 'IsHoliday'], axis = 1)"
   ]
  },
  {
   "cell_type": "code",
   "execution_count": 16,
   "metadata": {},
   "outputs": [
    {
     "data": {
      "text/html": [
       "<div>\n",
       "<style scoped>\n",
       "    .dataframe tbody tr th:only-of-type {\n",
       "        vertical-align: middle;\n",
       "    }\n",
       "\n",
       "    .dataframe tbody tr th {\n",
       "        vertical-align: top;\n",
       "    }\n",
       "\n",
       "    .dataframe thead th {\n",
       "        text-align: right;\n",
       "    }\n",
       "</style>\n",
       "<table border=\"1\" class=\"dataframe\">\n",
       "  <thead>\n",
       "    <tr style=\"text-align: right;\">\n",
       "      <th></th>\n",
       "      <th>Store</th>\n",
       "      <th>Temperature</th>\n",
       "      <th>Fuel_Price</th>\n",
       "      <th>MarkDown1</th>\n",
       "      <th>MarkDown2</th>\n",
       "      <th>MarkDown3</th>\n",
       "      <th>MarkDown4</th>\n",
       "      <th>MarkDown5</th>\n",
       "      <th>CPI</th>\n",
       "      <th>Type</th>\n",
       "      <th>Size</th>\n",
       "      <th>Dept</th>\n",
       "    </tr>\n",
       "  </thead>\n",
       "  <tbody>\n",
       "    <tr>\n",
       "      <th>0</th>\n",
       "      <td>12</td>\n",
       "      <td>61.20</td>\n",
       "      <td>3.411</td>\n",
       "      <td>7621</td>\n",
       "      <td>3752</td>\n",
       "      <td>4614</td>\n",
       "      <td>421</td>\n",
       "      <td>9921</td>\n",
       "      <td>217.1</td>\n",
       "      <td>A</td>\n",
       "      <td>231192</td>\n",
       "      <td>28</td>\n",
       "    </tr>\n",
       "    <tr>\n",
       "      <th>1</th>\n",
       "      <td>7</td>\n",
       "      <td>58.91</td>\n",
       "      <td>2.453</td>\n",
       "      <td>10224</td>\n",
       "      <td>2683</td>\n",
       "      <td>11942</td>\n",
       "      <td>769</td>\n",
       "      <td>3571</td>\n",
       "      <td>632.5</td>\n",
       "      <td>C</td>\n",
       "      <td>98421</td>\n",
       "      <td>91</td>\n",
       "    </tr>\n",
       "    <tr>\n",
       "      <th>2</th>\n",
       "      <td>23</td>\n",
       "      <td>47.74</td>\n",
       "      <td>3.286</td>\n",
       "      <td>9820</td>\n",
       "      <td>1291</td>\n",
       "      <td>1329</td>\n",
       "      <td>135</td>\n",
       "      <td>1231</td>\n",
       "      <td>382.7</td>\n",
       "      <td>B</td>\n",
       "      <td>119521</td>\n",
       "      <td>36</td>\n",
       "    </tr>\n",
       "  </tbody>\n",
       "</table>\n",
       "</div>"
      ],
      "text/plain": [
       "   Store  Temperature  Fuel_Price  MarkDown1  MarkDown2  MarkDown3  MarkDown4  \\\n",
       "0     12        61.20       3.411       7621       3752       4614        421   \n",
       "1      7        58.91       2.453      10224       2683      11942        769   \n",
       "2     23        47.74       3.286       9820       1291       1329        135   \n",
       "\n",
       "   MarkDown5    CPI Type    Size  Dept  \n",
       "0       9921  217.1    A  231192    28  \n",
       "1       3571  632.5    C   98421    91  \n",
       "2       1231  382.7    B  119521    36  "
      ]
     },
     "execution_count": 16,
     "metadata": {},
     "output_type": "execute_result"
    }
   ],
   "source": [
    "dataInf"
   ]
  },
  {
   "cell_type": "markdown",
   "metadata": {},
   "source": [
    "---\n",
    "# **IV. Prediction**\n",
    "> *In this step, the loaded sales forecasting model is applied to the dummy data to generate predictions. The model utilizes the information embedded during its training phase, including patterns learned from historical sales data, store types, promotional activities, and environmental factors. By inputting the dummy data into the model, it calculates and produces forecasts for sales outcomes based on the provided features.*"
   ]
  },
  {
   "cell_type": "code",
   "execution_count": 17,
   "metadata": {},
   "outputs": [
    {
     "data": {
      "text/plain": [
       "array([1247.74285, 6854.859  , 1416.30115])"
      ]
     },
     "execution_count": 17,
     "metadata": {},
     "output_type": "execute_result"
    }
   ],
   "source": [
    "yPred_inf = rf_model.predict(dataInf)\n",
    "yPred_inf"
   ]
  },
  {
   "cell_type": "markdown",
   "metadata": {},
   "source": [
    "From the outcomes provided, it is evident that the model anticipates sales to be 1247.74 for index 0, 6854.85 for index 1, and 1416.30 for index 2."
   ]
  }
 ],
 "metadata": {
  "kernelspec": {
   "display_name": "Python 3",
   "language": "python",
   "name": "python3"
  },
  "language_info": {
   "codemirror_mode": {
    "name": "ipython",
    "version": 3
   },
   "file_extension": ".py",
   "mimetype": "text/x-python",
   "name": "python",
   "nbconvert_exporter": "python",
   "pygments_lexer": "ipython3",
   "version": "3.11.6"
  }
 },
 "nbformat": 4,
 "nbformat_minor": 2
}
